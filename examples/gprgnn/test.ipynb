{
 "cells": [
  {
   "cell_type": "code",
   "execution_count": 20,
   "metadata": {},
   "outputs": [
    {
     "name": "stdout",
     "output_type": "stream",
     "text": [
      "0.78339994\n"
     ]
    }
   ],
   "source": [
    "import numpy as np\n",
    "with open('./test_accuracy', '') as f:\n",
    "        data = f.read().split('\\n')[0:-1]\n",
    "        \n",
    "        acc = np.array([r.split(' ')[2] for r in data], dtype=np.float32)\n",
    "        print(acc.mean())\n",
    "        \n",
    "        \n",
    "        # x = [[float(v) for v in r.split('\\t')[2].split(' ')] for r in data]"
   ]
  },
  {
   "cell_type": "code",
   "execution_count": 1,
   "metadata": {},
   "outputs": [
    {
     "name": "stderr",
     "output_type": "stream",
     "text": [
      "Using TensorFlow backend.\n"
     ]
    }
   ],
   "source": [
    "import tensorlayerx as tlx"
   ]
  },
  {
   "cell_type": "code",
   "execution_count": 9,
   "metadata": {},
   "outputs": [
    {
     "data": {
      "text/plain": [
       "[]"
      ]
     },
     "execution_count": 9,
     "metadata": {},
     "output_type": "execute_result"
    }
   ],
   "source": [
    "class Bar(tlx.nn.Module):\n",
    "    def __init__(self):\n",
    "        super(Bar, self).__init__()\n",
    "        TEMP = [0,0,0,0,0,1]\n",
    "        self.temp = tlx.Variable(tlx.convert_to_tensor(TEMP, dtype='float32'), name='gamma', trainable=True)\n",
    "\t\n",
    "\n",
    "net = Bar()\n",
    "net.trainable_weights"
   ]
  },
  {
   "cell_type": "code",
   "execution_count": 10,
   "metadata": {},
   "outputs": [
    {
     "data": {
      "text/plain": [
       "[<tf.Variable 'gamma:0' shape=(6,) dtype=float32, numpy=array([0., 0., 0., 0., 0., 1.], dtype=float32)>]"
      ]
     },
     "execution_count": 10,
     "metadata": {},
     "output_type": "execute_result"
    }
   ],
   "source": [
    "net.all_weights"
   ]
  },
  {
   "cell_type": "code",
   "execution_count": 12,
   "metadata": {},
   "outputs": [
    {
     "data": {
      "text/plain": [
       "True"
      ]
     },
     "execution_count": 12,
     "metadata": {},
     "output_type": "execute_result"
    }
   ],
   "source": [
    "net.all_weights[0].trainable"
   ]
  },
  {
   "cell_type": "code",
   "execution_count": null,
   "metadata": {},
   "outputs": [],
   "source": []
  }
 ],
 "metadata": {
  "interpreter": {
   "hash": "025587ea05cfa3cd02269d5e8d731662f78019fcad1cdc43ad9ea0258563eea0"
  },
  "kernelspec": {
   "display_name": "Python 3.9.12 ('ggl')",
   "language": "python",
   "name": "python3"
  },
  "language_info": {
   "codemirror_mode": {
    "name": "ipython",
    "version": 3
   },
   "file_extension": ".py",
   "mimetype": "text/x-python",
   "name": "python",
   "nbconvert_exporter": "python",
   "pygments_lexer": "ipython3",
   "version": "3.9.12"
  },
  "orig_nbformat": 4
 },
 "nbformat": 4,
 "nbformat_minor": 2
}
