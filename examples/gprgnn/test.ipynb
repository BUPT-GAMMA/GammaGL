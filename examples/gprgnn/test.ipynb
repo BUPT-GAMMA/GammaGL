{
 "cells": [
  {
   "cell_type": "code",
   "execution_count": 20,
   "metadata": {},
   "outputs": [
    {
     "name": "stdout",
     "output_type": "stream",
     "text": [
      "0.78339994\n"
     ]
    }
   ],
   "source": [
    "import numpy as np\n",
    "with open('./test_accuracy', '') as f:\n",
    "        data = f.read().split('\\n')[0:-1]\n",
    "        \n",
    "        acc = np.array([r.split(' ')[2] for r in data], dtype=np.float32)\n",
    "        print(acc.mean())\n",
    "        \n",
    "        \n",
    "        # x = [[float(v) for v in r.split('\\t')[2].split(' ')] for r in data]"
   ]
  },
  {
   "cell_type": "code",
   "execution_count": 28,
   "metadata": {},
   "outputs": [],
   "source": [
    "import tensorlayerx as tlx\n",
    "import numpy as np\n",
    "import sys\n",
    "import os.path as osp\n",
    "sys.path.insert(0, osp.abspath('../../')) # adds path2gammagl to execute in command line."
   ]
  },
  {
   "cell_type": "code",
   "execution_count": 31,
   "metadata": {},
   "outputs": [
    {
     "name": "stdout",
     "output_type": "stream",
     "text": [
      "(2, 10556)\n",
      "(2, 9228)\n",
      "(2, 10556)\n"
     ]
    }
   ],
   "source": [
    "from gammagl.datasets import Planetoid\n",
    "Data_1 = Planetoid(root='../datasets', name='cora')\n",
    "Data_2 = Planetoid(root='../datasets', name='citeseer')\n",
    "Graph1 = Data_1[0]\n",
    "\n",
    "print(Data_1[0].edge_index.shape)\n",
    "print(Data_2[0].edge_index.shape)\n",
    "print(Graph1.edge_index.shape)"
   ]
  },
  {
   "cell_type": "code",
   "execution_count": 32,
   "metadata": {},
   "outputs": [
    {
     "name": "stdout",
     "output_type": "stream",
     "text": [
      "(2, 10556)\n",
      "(2, 9228)\n",
      "(2, 10556)\n"
     ]
    }
   ],
   "source": [
    "Data_1[0].edge_index = Data_2[0].edge_index\n",
    "print(Data_1[0].edge_index.shape)\n",
    "Graph1.edge_index = Data_2[0].edge_index\n",
    "print(Graph1.edge_index.shape)\n",
    "print(Data_1[0].edge_index.shape)"
   ]
  },
  {
   "cell_type": "code",
   "execution_count": 13,
   "metadata": {},
   "outputs": [
    {
     "ename": "NameError",
     "evalue": "name 'TEMP' is not defined",
     "output_type": "error",
     "traceback": [
      "\u001b[0;31m---------------------------------------------------------------------------\u001b[0m",
      "\u001b[0;31mNameError\u001b[0m                                 Traceback (most recent call last)",
      "\u001b[1;32m/Users/coldeye/git_repo/GammaGL/examples/gprgnn/test.ipynb Cell 3'\u001b[0m in \u001b[0;36m<cell line: 8>\u001b[0;34m()\u001b[0m\n\u001b[1;32m      <a href='vscode-notebook-cell:/Users/coldeye/git_repo/GammaGL/examples/gprgnn/test.ipynb#ch0000002?line=3'>4</a>\u001b[0m         init \u001b[39m=\u001b[39m tlx\u001b[39m.\u001b[39minitializers\u001b[39m.\u001b[39mConstant([\u001b[39m2\u001b[39m,\u001b[39m4\u001b[39m,\u001b[39m5\u001b[39m,\u001b[39m1\u001b[39m,\u001b[39m1\u001b[39m])\n\u001b[1;32m      <a href='vscode-notebook-cell:/Users/coldeye/git_repo/GammaGL/examples/gprgnn/test.ipynb#ch0000002?line=4'>5</a>\u001b[0m         \u001b[39mself\u001b[39m\u001b[39m.\u001b[39mtemp \u001b[39m=\u001b[39m tlx\u001b[39m.\u001b[39mVariable(tlx\u001b[39m.\u001b[39mconvert_to_tensor(TEMP, dtype\u001b[39m=\u001b[39m\u001b[39m'\u001b[39m\u001b[39mfloat32\u001b[39m\u001b[39m'\u001b[39m), name\u001b[39m=\u001b[39m\u001b[39m'\u001b[39m\u001b[39mgamma\u001b[39m\u001b[39m'\u001b[39m, trainable\u001b[39m=\u001b[39m\u001b[39mTrue\u001b[39;00m)\n\u001b[0;32m----> <a href='vscode-notebook-cell:/Users/coldeye/git_repo/GammaGL/examples/gprgnn/test.ipynb#ch0000002?line=7'>8</a>\u001b[0m net \u001b[39m=\u001b[39m Bar()\n\u001b[1;32m      <a href='vscode-notebook-cell:/Users/coldeye/git_repo/GammaGL/examples/gprgnn/test.ipynb#ch0000002?line=8'>9</a>\u001b[0m net\u001b[39m.\u001b[39mtrainable_weights\n",
      "\u001b[1;32m/Users/coldeye/git_repo/GammaGL/examples/gprgnn/test.ipynb Cell 3'\u001b[0m in \u001b[0;36mBar.__init__\u001b[0;34m(self)\u001b[0m\n\u001b[1;32m      <a href='vscode-notebook-cell:/Users/coldeye/git_repo/GammaGL/examples/gprgnn/test.ipynb#ch0000002?line=2'>3</a>\u001b[0m \u001b[39msuper\u001b[39m(Bar, \u001b[39mself\u001b[39m)\u001b[39m.\u001b[39m\u001b[39m__init__\u001b[39m()\n\u001b[1;32m      <a href='vscode-notebook-cell:/Users/coldeye/git_repo/GammaGL/examples/gprgnn/test.ipynb#ch0000002?line=3'>4</a>\u001b[0m init \u001b[39m=\u001b[39m tlx\u001b[39m.\u001b[39minitializers\u001b[39m.\u001b[39mConstant([\u001b[39m2\u001b[39m,\u001b[39m4\u001b[39m,\u001b[39m5\u001b[39m,\u001b[39m1\u001b[39m,\u001b[39m1\u001b[39m])\n\u001b[0;32m----> <a href='vscode-notebook-cell:/Users/coldeye/git_repo/GammaGL/examples/gprgnn/test.ipynb#ch0000002?line=4'>5</a>\u001b[0m \u001b[39mself\u001b[39m\u001b[39m.\u001b[39mtemp \u001b[39m=\u001b[39m tlx\u001b[39m.\u001b[39mVariable(tlx\u001b[39m.\u001b[39mconvert_to_tensor(TEMP, dtype\u001b[39m=\u001b[39m\u001b[39m'\u001b[39m\u001b[39mfloat32\u001b[39m\u001b[39m'\u001b[39m), name\u001b[39m=\u001b[39m\u001b[39m'\u001b[39m\u001b[39mgamma\u001b[39m\u001b[39m'\u001b[39m, trainable\u001b[39m=\u001b[39m\u001b[39mTrue\u001b[39;00m)\n",
      "\u001b[0;31mNameError\u001b[0m: name 'TEMP' is not defined"
     ]
    }
   ],
   "source": [
    "class Bar(tlx.nn.Module):\n",
    "    def __init__(self):\n",
    "        super(Bar, self).__init__()\n",
    "        init = tlx.initializers.Constant([2,4,5,1,1])\n",
    "        self.temp = tlx.Variable(tlx.convert_to_tensor(TEMP, dtype='float32'), name='gamma', trainable=True)\n",
    "\t\n",
    "\n",
    "net = Bar()\n",
    "net.trainable_weights"
   ]
  },
  {
   "cell_type": "code",
   "execution_count": 10,
   "metadata": {},
   "outputs": [
    {
     "data": {
      "text/plain": [
       "[<tf.Variable 'gamma:0' shape=(6,) dtype=float32, numpy=array([0., 0., 0., 0., 0., 1.], dtype=float32)>]"
      ]
     },
     "execution_count": 10,
     "metadata": {},
     "output_type": "execute_result"
    }
   ],
   "source": [
    "net.all_weights"
   ]
  },
  {
   "cell_type": "code",
   "execution_count": 12,
   "metadata": {},
   "outputs": [
    {
     "data": {
      "text/plain": [
       "True"
      ]
     },
     "execution_count": 12,
     "metadata": {},
     "output_type": "execute_result"
    }
   ],
   "source": [
    "net.all_weights[0].trainable"
   ]
  },
  {
   "cell_type": "code",
   "execution_count": 25,
   "metadata": {},
   "outputs": [
    {
     "name": "stdout",
     "output_type": "stream",
     "text": [
      "tf.Tensor([0. 0. 0. 1.], shape=(4,), dtype=float32)\n"
     ]
    }
   ],
   "source": [
    "value = np.array([0,0,0,1])\n",
    "init = tlx.initializers.Constant(value=[0,0,0,1])\n",
    "print())"
   ]
  },
  {
   "cell_type": "code",
   "execution_count": null,
   "metadata": {},
   "outputs": [],
   "source": []
  }
 ],
 "metadata": {
  "interpreter": {
   "hash": "025587ea05cfa3cd02269d5e8d731662f78019fcad1cdc43ad9ea0258563eea0"
  },
  "kernelspec": {
   "display_name": "Python 3.9.12 ('ggl')",
   "language": "python",
   "name": "python3"
  },
  "language_info": {
   "codemirror_mode": {
    "name": "ipython",
    "version": 3
   },
   "file_extension": ".py",
   "mimetype": "text/x-python",
   "name": "python",
   "nbconvert_exporter": "python",
   "pygments_lexer": "ipython3",
   "version": "3.9.12"
  },
  "orig_nbformat": 4
 },
 "nbformat": 4,
 "nbformat_minor": 2
}
