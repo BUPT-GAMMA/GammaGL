{
 "cells": [
  {
   "cell_type": "code",
   "execution_count": 2,
   "metadata": {
    "collapsed": true
   },
   "outputs": [],
   "source": [
    "import pandas as pd"
   ]
  },
  {
   "cell_type": "code",
   "execution_count": 3,
   "outputs": [
    {
     "data": {
      "text/plain": "       Backend    Dataset     acc\n0        torch    cornell  0.7838\n1        torch    cornell  0.7838\n2        torch    cornell  0.7838\n3        torch    cornell  0.7838\n4        torch    cornell  0.7838\n5        torch      texas  0.8378\n6        torch      texas  0.8378\n7        torch      texas  0.8378\n8        torch      texas  0.8649\n9        torch      texas  0.8649\n10       torch  wisconsin  0.8431\n11       torch  wisconsin  0.8431\n12       torch  wisconsin  0.8431\n13       torch  wisconsin  0.8431\n14       torch  wisconsin  0.8235\n15  tensorflow    cornell  0.7838\n16  tensorflow    cornell  0.7838\n17  tensorflow    cornell  0.7838\n18  tensorflow    cornell  0.7838\n19  tensorflow    cornell  0.7838\n20  tensorflow      texas  0.8378\n21  tensorflow      texas  0.8378\n22  tensorflow      texas  0.8378\n23  tensorflow      texas  0.8378\n24  tensorflow      texas  0.8378\n25  tensorflow  wisconsin  0.8235\n26  tensorflow  wisconsin  0.8235\n27  tensorflow  wisconsin  0.8235\n28  tensorflow  wisconsin  0.8235\n29  tensorflow  wisconsin  0.8235\n30      paddle    cornell  0.7838\n31      paddle    cornell  0.7838\n32      paddle    cornell  0.7838\n33      paddle    cornell  0.7838\n34      paddle    cornell  0.8108\n35      paddle      texas  0.8649\n36      paddle      texas  0.8649\n37      paddle      texas  0.8649\n38      paddle      texas  0.8649\n39      paddle      texas  0.8378\n40      paddle  wisconsin  0.8431\n41      paddle  wisconsin  0.8431\n42      paddle  wisconsin  0.8431\n43      paddle  wisconsin  0.8235\n44      paddle  wisconsin  0.8235",
      "text/html": "<div>\n<style scoped>\n    .dataframe tbody tr th:only-of-type {\n        vertical-align: middle;\n    }\n\n    .dataframe tbody tr th {\n        vertical-align: top;\n    }\n\n    .dataframe thead th {\n        text-align: right;\n    }\n</style>\n<table border=\"1\" class=\"dataframe\">\n  <thead>\n    <tr style=\"text-align: right;\">\n      <th></th>\n      <th>Backend</th>\n      <th>Dataset</th>\n      <th>acc</th>\n    </tr>\n  </thead>\n  <tbody>\n    <tr>\n      <th>0</th>\n      <td>torch</td>\n      <td>cornell</td>\n      <td>0.7838</td>\n    </tr>\n    <tr>\n      <th>1</th>\n      <td>torch</td>\n      <td>cornell</td>\n      <td>0.7838</td>\n    </tr>\n    <tr>\n      <th>2</th>\n      <td>torch</td>\n      <td>cornell</td>\n      <td>0.7838</td>\n    </tr>\n    <tr>\n      <th>3</th>\n      <td>torch</td>\n      <td>cornell</td>\n      <td>0.7838</td>\n    </tr>\n    <tr>\n      <th>4</th>\n      <td>torch</td>\n      <td>cornell</td>\n      <td>0.7838</td>\n    </tr>\n    <tr>\n      <th>5</th>\n      <td>torch</td>\n      <td>texas</td>\n      <td>0.8378</td>\n    </tr>\n    <tr>\n      <th>6</th>\n      <td>torch</td>\n      <td>texas</td>\n      <td>0.8378</td>\n    </tr>\n    <tr>\n      <th>7</th>\n      <td>torch</td>\n      <td>texas</td>\n      <td>0.8378</td>\n    </tr>\n    <tr>\n      <th>8</th>\n      <td>torch</td>\n      <td>texas</td>\n      <td>0.8649</td>\n    </tr>\n    <tr>\n      <th>9</th>\n      <td>torch</td>\n      <td>texas</td>\n      <td>0.8649</td>\n    </tr>\n    <tr>\n      <th>10</th>\n      <td>torch</td>\n      <td>wisconsin</td>\n      <td>0.8431</td>\n    </tr>\n    <tr>\n      <th>11</th>\n      <td>torch</td>\n      <td>wisconsin</td>\n      <td>0.8431</td>\n    </tr>\n    <tr>\n      <th>12</th>\n      <td>torch</td>\n      <td>wisconsin</td>\n      <td>0.8431</td>\n    </tr>\n    <tr>\n      <th>13</th>\n      <td>torch</td>\n      <td>wisconsin</td>\n      <td>0.8431</td>\n    </tr>\n    <tr>\n      <th>14</th>\n      <td>torch</td>\n      <td>wisconsin</td>\n      <td>0.8235</td>\n    </tr>\n    <tr>\n      <th>15</th>\n      <td>tensorflow</td>\n      <td>cornell</td>\n      <td>0.7838</td>\n    </tr>\n    <tr>\n      <th>16</th>\n      <td>tensorflow</td>\n      <td>cornell</td>\n      <td>0.7838</td>\n    </tr>\n    <tr>\n      <th>17</th>\n      <td>tensorflow</td>\n      <td>cornell</td>\n      <td>0.7838</td>\n    </tr>\n    <tr>\n      <th>18</th>\n      <td>tensorflow</td>\n      <td>cornell</td>\n      <td>0.7838</td>\n    </tr>\n    <tr>\n      <th>19</th>\n      <td>tensorflow</td>\n      <td>cornell</td>\n      <td>0.7838</td>\n    </tr>\n    <tr>\n      <th>20</th>\n      <td>tensorflow</td>\n      <td>texas</td>\n      <td>0.8378</td>\n    </tr>\n    <tr>\n      <th>21</th>\n      <td>tensorflow</td>\n      <td>texas</td>\n      <td>0.8378</td>\n    </tr>\n    <tr>\n      <th>22</th>\n      <td>tensorflow</td>\n      <td>texas</td>\n      <td>0.8378</td>\n    </tr>\n    <tr>\n      <th>23</th>\n      <td>tensorflow</td>\n      <td>texas</td>\n      <td>0.8378</td>\n    </tr>\n    <tr>\n      <th>24</th>\n      <td>tensorflow</td>\n      <td>texas</td>\n      <td>0.8378</td>\n    </tr>\n    <tr>\n      <th>25</th>\n      <td>tensorflow</td>\n      <td>wisconsin</td>\n      <td>0.8235</td>\n    </tr>\n    <tr>\n      <th>26</th>\n      <td>tensorflow</td>\n      <td>wisconsin</td>\n      <td>0.8235</td>\n    </tr>\n    <tr>\n      <th>27</th>\n      <td>tensorflow</td>\n      <td>wisconsin</td>\n      <td>0.8235</td>\n    </tr>\n    <tr>\n      <th>28</th>\n      <td>tensorflow</td>\n      <td>wisconsin</td>\n      <td>0.8235</td>\n    </tr>\n    <tr>\n      <th>29</th>\n      <td>tensorflow</td>\n      <td>wisconsin</td>\n      <td>0.8235</td>\n    </tr>\n    <tr>\n      <th>30</th>\n      <td>paddle</td>\n      <td>cornell</td>\n      <td>0.7838</td>\n    </tr>\n    <tr>\n      <th>31</th>\n      <td>paddle</td>\n      <td>cornell</td>\n      <td>0.7838</td>\n    </tr>\n    <tr>\n      <th>32</th>\n      <td>paddle</td>\n      <td>cornell</td>\n      <td>0.7838</td>\n    </tr>\n    <tr>\n      <th>33</th>\n      <td>paddle</td>\n      <td>cornell</td>\n      <td>0.7838</td>\n    </tr>\n    <tr>\n      <th>34</th>\n      <td>paddle</td>\n      <td>cornell</td>\n      <td>0.8108</td>\n    </tr>\n    <tr>\n      <th>35</th>\n      <td>paddle</td>\n      <td>texas</td>\n      <td>0.8649</td>\n    </tr>\n    <tr>\n      <th>36</th>\n      <td>paddle</td>\n      <td>texas</td>\n      <td>0.8649</td>\n    </tr>\n    <tr>\n      <th>37</th>\n      <td>paddle</td>\n      <td>texas</td>\n      <td>0.8649</td>\n    </tr>\n    <tr>\n      <th>38</th>\n      <td>paddle</td>\n      <td>texas</td>\n      <td>0.8649</td>\n    </tr>\n    <tr>\n      <th>39</th>\n      <td>paddle</td>\n      <td>texas</td>\n      <td>0.8378</td>\n    </tr>\n    <tr>\n      <th>40</th>\n      <td>paddle</td>\n      <td>wisconsin</td>\n      <td>0.8431</td>\n    </tr>\n    <tr>\n      <th>41</th>\n      <td>paddle</td>\n      <td>wisconsin</td>\n      <td>0.8431</td>\n    </tr>\n    <tr>\n      <th>42</th>\n      <td>paddle</td>\n      <td>wisconsin</td>\n      <td>0.8431</td>\n    </tr>\n    <tr>\n      <th>43</th>\n      <td>paddle</td>\n      <td>wisconsin</td>\n      <td>0.8235</td>\n    </tr>\n    <tr>\n      <th>44</th>\n      <td>paddle</td>\n      <td>wisconsin</td>\n      <td>0.8235</td>\n    </tr>\n  </tbody>\n</table>\n</div>"
     },
     "execution_count": 3,
     "metadata": {},
     "output_type": "execute_result"
    }
   ],
   "source": [
    "df = pd.read_csv('./acc.csv')\n",
    "df"
   ],
   "metadata": {
    "collapsed": false
   }
  },
  {
   "cell_type": "code",
   "execution_count": 5,
   "outputs": [
    {
     "data": {
      "text/plain": "                         mean       std\nBackend    Dataset                     \npaddle     cornell    0.78920  0.012075\n           texas      0.85948  0.012119\n           wisconsin  0.83526  0.010735\ntensorflow cornell    0.78380  0.000000\n           texas      0.83780  0.000000\n           wisconsin  0.82350  0.000000\ntorch      cornell    0.78380  0.000000\n           texas      0.84864  0.014843\n           wisconsin  0.83918  0.008765",
      "text/html": "<div>\n<style scoped>\n    .dataframe tbody tr th:only-of-type {\n        vertical-align: middle;\n    }\n\n    .dataframe tbody tr th {\n        vertical-align: top;\n    }\n\n    .dataframe thead th {\n        text-align: right;\n    }\n</style>\n<table border=\"1\" class=\"dataframe\">\n  <thead>\n    <tr style=\"text-align: right;\">\n      <th></th>\n      <th></th>\n      <th>mean</th>\n      <th>std</th>\n    </tr>\n    <tr>\n      <th>Backend</th>\n      <th>Dataset</th>\n      <th></th>\n      <th></th>\n    </tr>\n  </thead>\n  <tbody>\n    <tr>\n      <th rowspan=\"3\" valign=\"top\">paddle</th>\n      <th>cornell</th>\n      <td>0.78920</td>\n      <td>0.012075</td>\n    </tr>\n    <tr>\n      <th>texas</th>\n      <td>0.85948</td>\n      <td>0.012119</td>\n    </tr>\n    <tr>\n      <th>wisconsin</th>\n      <td>0.83526</td>\n      <td>0.010735</td>\n    </tr>\n    <tr>\n      <th rowspan=\"3\" valign=\"top\">tensorflow</th>\n      <th>cornell</th>\n      <td>0.78380</td>\n      <td>0.000000</td>\n    </tr>\n    <tr>\n      <th>texas</th>\n      <td>0.83780</td>\n      <td>0.000000</td>\n    </tr>\n    <tr>\n      <th>wisconsin</th>\n      <td>0.82350</td>\n      <td>0.000000</td>\n    </tr>\n    <tr>\n      <th rowspan=\"3\" valign=\"top\">torch</th>\n      <th>cornell</th>\n      <td>0.78380</td>\n      <td>0.000000</td>\n    </tr>\n    <tr>\n      <th>texas</th>\n      <td>0.84864</td>\n      <td>0.014843</td>\n    </tr>\n    <tr>\n      <th>wisconsin</th>\n      <td>0.83918</td>\n      <td>0.008765</td>\n    </tr>\n  </tbody>\n</table>\n</div>"
     },
     "execution_count": 5,
     "metadata": {},
     "output_type": "execute_result"
    }
   ],
   "source": [
    "result = df.groupby(['Backend', 'Dataset'])['acc'].agg(['mean', 'std'])\n",
    "result"
   ],
   "metadata": {
    "collapsed": false
   }
  },
  {
   "cell_type": "code",
   "execution_count": null,
   "outputs": [],
   "source": [],
   "metadata": {
    "collapsed": false
   }
  }
 ],
 "metadata": {
  "kernelspec": {
   "display_name": "Python 3",
   "language": "python",
   "name": "python3"
  },
  "language_info": {
   "codemirror_mode": {
    "name": "ipython",
    "version": 2
   },
   "file_extension": ".py",
   "mimetype": "text/x-python",
   "name": "python",
   "nbconvert_exporter": "python",
   "pygments_lexer": "ipython2",
   "version": "2.7.6"
  }
 },
 "nbformat": 4,
 "nbformat_minor": 0
}
